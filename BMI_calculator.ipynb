{
  "nbformat": 4,
  "nbformat_minor": 0,
  "metadata": {
    "colab": {
      "provenance": []
    },
    "kernelspec": {
      "name": "python3",
      "display_name": "Python 3"
    },
    "language_info": {
      "name": "python"
    }
  },
  "cells": [
    {
      "cell_type": "code",
      "source": [
        "class Colors:\n",
        "  REDB = '\\u001b[31;1m'\n",
        "  RED = '\\u001b[31m'\n",
        "  PINKB = '\\u001b[35;1m'\n",
        "  PINK = '\\u001b[35m'\n",
        "  GREENB = '\\u001b[32;1m'\n",
        "  GREEN = '\\u001b[32m'\n",
        "  YELLOWB = '\\u001b[33;1m'\n",
        "  YELLOW = '\\u001b[33m'\n",
        "  CLOSE = '\\u001b[0m'"
      ],
      "metadata": {
        "id": "PPJRYudAdRgY"
      },
      "execution_count": 43,
      "outputs": []
    },
    {
      "cell_type": "code",
      "execution_count": 44,
      "metadata": {
        "id": "Jr2mcSf5Yeat"
      },
      "outputs": [],
      "source": [
        "def BMI(w, h):\n",
        "  return (w/h**2)*703\n",
        "\n",
        "def foot_to_inches(f, i):\n",
        "  return f*12 + i\n",
        "\n",
        " \n",
        "def matrix(x, y):\n",
        "  print('-------|--------------|--------------|--------------|-------')\n",
        "  txt = '  Underweight      Healthy      Overweighht      Obesity'\n",
        "  print(txt.replace(x, y+Colors.CLOSE))\n",
        "\n",
        "\n",
        "def healthyBMI(bmi):\n",
        "  if bmi< 18.5:\n",
        "    matrix('Underweight', Colors.YELLOWB+'Underweight')\n",
        "    return 'Underweight'\n",
        "  elif bmi >= 18.5 and bmi <=24.9:\n",
        "    matrix('Healthy', Colors.GREENB+'Healthy')\n",
        "    return 'Healthy'\n",
        "  elif bmi >=25 and bmi <=29.9:\n",
        "    matrix('Overweight', Colors.PINKB+'Overweight')\n",
        "    return 'Overweight'\n",
        "  elif bmi >= 30:\n",
        "    matrix('Obesity', Colors.REDB+'Obesity')\n",
        "    return 'Obesity'\n"
      ]
    },
    {
      "cell_type": "code",
      "source": [
        "print(Colors.REDB+'Please Enter Your Info\\n')\n",
        "\n",
        "w = int(input('\\tWeight (pounds): '))\n",
        "\n",
        "print('\\tHeight:')\n",
        "f = int(input('\\tFeet: '))\n",
        "\n",
        "i = int(input('\\tInches: '))\n",
        "print(Colors.CLOSE)\n",
        "#-------------------------------------------------------------------------------\n",
        "bmi =BMI(w, foot_to_inches(f,i))\n",
        "print('\\n\\033[1mYour BMI is {0:.2f} which falls under {1:s} category \\033[0m'.format(bmi, healthyBMI(bmi)))\n"
      ],
      "metadata": {
        "colab": {
          "base_uri": "https://localhost:8080/"
        },
        "id": "vGbAJQIUZRWa",
        "outputId": "f323d479-3bfa-40da-d6f3-e89caff2f886"
      },
      "execution_count": 45,
      "outputs": [
        {
          "output_type": "stream",
          "name": "stdout",
          "text": [
            "\u001b[31;1mPlease Enter Your Info\n",
            "\n",
            "\tWeight (pounds): 150\n",
            "\tHeight:\n",
            "\tFeet: 5\n",
            "\tInches: 6\n",
            "\u001b[0m\n",
            "-------|--------------|--------------|--------------|-------\n",
            "  Underweight      \u001b[32;1mHealthy\u001b[0m      Overweighht      Obesity\n",
            "\n",
            "\u001b[1mYour BMI is 24.21 which falls under Healthy category \u001b[0m\n"
          ]
        }
      ]
    }
  ]
}